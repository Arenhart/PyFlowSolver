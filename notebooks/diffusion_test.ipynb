{
 "cells": [
  {
   "cell_type": "code",
   "execution_count": 1,
   "id": "1e04932c-491c-4bcd-93c2-57f54e5a9aec",
   "metadata": {},
   "outputs": [],
   "source": [
    "import numpy as np"
   ]
  },
  {
   "cell_type": "code",
   "execution_count": 63,
   "id": "0bac9c6f-bba8-4523-9163-0e88679051ac",
   "metadata": {},
   "outputs": [
    {
     "data": {
      "text/plain": [
       "array([1. , 0.5, 0.5, 0.5, 0.5, 0.5, 0.5, 0.5, 0.5, 0.5, 0. ],\n",
       "      dtype=float32)"
      ]
     },
     "execution_count": 63,
     "metadata": {},
     "output_type": "execute_result"
    }
   ],
   "source": [
    "arr = np.ones(11, dtype=np.float32)\n",
    "arr *= 0.5\n",
    "arr[0] = 1\n",
    "arr[-1] = 0\n",
    "arr"
   ]
  },
  {
   "cell_type": "code",
   "execution_count": 64,
   "id": "edf889f6-3dbe-4278-9b82-ebc86016da31",
   "metadata": {},
   "outputs": [],
   "source": [
    "def step(arr, step = 0.25):\n",
    "    next_step = arr.copy()\n",
    "    for i in range(1, arr.size-1):\n",
    "        r = -2*arr[i]  + arr[i-1] + arr[i+1]\n",
    "        next_step[i] = arr[i] + r * step\n",
    "    return next_step"
   ]
  },
  {
   "cell_type": "code",
   "execution_count": 65,
   "id": "754c350c-e439-46e9-b68a-570a944f2466",
   "metadata": {},
   "outputs": [
    {
     "data": {
      "text/plain": [
       "array([1.   , 0.625, 0.5  , 0.5  , 0.5  , 0.5  , 0.5  , 0.5  , 0.5  ,\n",
       "       0.375, 0.   ], dtype=float32)"
      ]
     },
     "execution_count": 65,
     "metadata": {},
     "output_type": "execute_result"
    }
   ],
   "source": [
    "step(arr)"
   ]
  },
  {
   "cell_type": "code",
   "execution_count": 66,
   "id": "e3063f1e-b080-43ae-9559-945a4d716d33",
   "metadata": {},
   "outputs": [
    {
     "name": "stdout",
     "output_type": "stream",
     "text": [
      "[1.  0.5 0.5 0.5 0.5 0.5 0.5 0.5 0.5 0.5 0. ]\n",
      "[1.         0.87566775 0.76065683 0.6606905  0.5757222  0.5\n",
      " 0.42427778 0.33930948 0.23934317 0.12433225 0.        ]\n"
     ]
    }
   ],
   "source": [
    "next_step = arr.copy()\n",
    "print(next_step)\n",
    "for i in range(20):\n",
    "    next_step = step(next_step)\n",
    "print(next_step)"
   ]
  },
  {
   "cell_type": "code",
   "execution_count": 67,
   "id": "1d5d4d64-79ff-4f49-8193-3e9e0302617f",
   "metadata": {},
   "outputs": [
    {
     "name": "stdout",
     "output_type": "stream",
     "text": [
      "[1.  0.5 0.5 0.5 0.5 0.5 0.5 0.5 0.5 0.5 0. ]\n",
      "[1.   0.62 0.5  0.5  0.5  0.5  0.5  0.5  0.5  0.38 0.  ]\n",
      "[1.   0.69 0.53 0.5  0.5  0.5  0.5  0.5  0.47 0.31 0.  ]\n",
      "[1.   0.73 0.56 0.51 0.5  0.5  0.5  0.49 0.44 0.27 0.  ]\n",
      "[1.   0.75 0.59 0.52 0.5  0.5  0.5  0.48 0.41 0.25 0.  ]\n",
      "[1.   0.77 0.61 0.53 0.51 0.5  0.49 0.47 0.39 0.23 0.  ]\n",
      "[1.   0.79 0.63 0.55 0.51 0.5  0.49 0.45 0.37 0.21 0.  ]\n",
      "[1.   0.8  0.65 0.56 0.52 0.5  0.48 0.44 0.35 0.2  0.  ]\n",
      "[1.   0.81 0.67 0.57 0.52 0.5  0.48 0.43 0.33 0.19 0.  ]\n",
      "[1.   0.82 0.68 0.58 0.53 0.5  0.47 0.42 0.32 0.18 0.  ]\n",
      "[1.   0.83 0.69 0.59 0.54 0.5  0.46 0.41 0.31 0.17 0.  ]\n",
      "[1.   0.84 0.71 0.61 0.54 0.5  0.46 0.39 0.29 0.16 0.  ]\n",
      "[1.   0.85 0.72 0.62 0.55 0.5  0.45 0.38 0.28 0.15 0.  ]\n",
      "[1.   0.86 0.73 0.63 0.56 0.5  0.44 0.37 0.27 0.14 0.  ]\n",
      "[1.   0.86 0.74 0.64 0.56 0.5  0.44 0.36 0.26 0.14 0.  ]\n",
      "[1.   0.87 0.75 0.65 0.57 0.5  0.43 0.35 0.25 0.13 0.  ]\n",
      "[1.   0.87 0.75 0.65 0.57 0.5  0.43 0.35 0.25 0.13 0.  ]\n",
      "[1.   0.87 0.76 0.66 0.57 0.5  0.43 0.34 0.24 0.13 0.  ]\n",
      "[1.   0.88 0.76 0.66 0.58 0.5  0.42 0.34 0.24 0.12 0.  ]\n",
      "[1.   0.88 0.77 0.67 0.58 0.5  0.42 0.33 0.23 0.12 0.  ]\n",
      "[1.   0.88 0.77 0.67 0.58 0.5  0.42 0.33 0.23 0.12 0.  ]\n"
     ]
    }
   ],
   "source": [
    "next_step = arr.copy()\n",
    "print(next_step)\n",
    "for i in range(10):\n",
    "    next_step = step(next_step)\n",
    "    print(next_step.round(2))\n",
    "\n",
    "for i in range(10):\n",
    "    next_step = step(next_step, step = 0.33)\n",
    "    print(next_step.round(2))"
   ]
  },
  {
   "cell_type": "code",
   "execution_count": 68,
   "id": "1650a501-34f2-4252-bd6d-e3ecc74a410b",
   "metadata": {
    "jupyter": {
     "source_hidden": true
    }
   },
   "outputs": [],
   "source": [
    "def forward_step(arr, step = 0.25):\n",
    "    next_step = arr.copy()\n",
    "    for i in range(1, arr.size-1):\n",
    "        r = -2*arr[i]  + next_step[i-1] + arr[i+1]\n",
    "        next_step[i] = arr[i] + r * step\n",
    "    return next_step\n",
    "\n",
    "def back_step(arr, step = 0.25):\n",
    "    next_step = arr.copy()\n",
    "    for i in range(arr.size-2, 0, -1):\n",
    "        r = -2*arr[i]  + arr[i-1] + next_step[i+1]\n",
    "        next_step[i] = arr[i] + r * step\n",
    "    return next_step"
   ]
  },
  {
   "cell_type": "code",
   "execution_count": 69,
   "id": "6b4545c4-2681-42f4-ae57-b5d705a107e4",
   "metadata": {
    "jupyter": {
     "source_hidden": true
    }
   },
   "outputs": [
    {
     "name": "stdout",
     "output_type": "stream",
     "text": [
      "[1.  0.5 0.5 0.5 0.5 0.5 0.5 0.5 0.5 0.5 0. ]\n",
      "[1.   0.62 0.53 0.51 0.5  0.5  0.5  0.5  0.5  0.38 0.  ]\n",
      "[1.   0.7  0.55 0.51 0.5  0.5  0.5  0.49 0.45 0.31 0.  ]\n",
      "[1.   0.74 0.59 0.53 0.51 0.5  0.5  0.48 0.43 0.26 0.  ]\n",
      "[1.   0.77 0.61 0.54 0.51 0.5  0.49 0.46 0.39 0.24 0.  ]\n",
      "[1.   0.79 0.64 0.56 0.52 0.5  0.49 0.45 0.37 0.21 0.  ]\n",
      "[1.   0.81 0.66 0.57 0.52 0.5  0.48 0.43 0.35 0.2  0.  ]\n",
      "[1.   0.82 0.68 0.58 0.53 0.5  0.47 0.42 0.33 0.18 0.  ]\n",
      "[1.   0.83 0.69 0.6  0.54 0.5  0.46 0.41 0.31 0.17 0.  ]\n",
      "[1.   0.84 0.71 0.61 0.55 0.5  0.46 0.4  0.3  0.16 0.  ]\n",
      "[1.   0.85 0.72 0.62 0.55 0.5  0.45 0.38 0.29 0.15 0.  ]\n",
      "[1.   0.86 0.73 0.63 0.56 0.5  0.45 0.37 0.27 0.14 0.  ]\n",
      "[1.   0.87 0.74 0.64 0.57 0.5  0.44 0.36 0.26 0.14 0.  ]\n",
      "[1.   0.87 0.75 0.65 0.57 0.5  0.43 0.35 0.25 0.13 0.  ]\n",
      "[1.   0.88 0.76 0.66 0.58 0.5  0.43 0.34 0.24 0.13 0.  ]\n",
      "[1.   0.88 0.77 0.67 0.58 0.5  0.42 0.34 0.24 0.12 0.  ]\n",
      "[1.   0.88 0.77 0.67 0.58 0.5  0.42 0.33 0.23 0.12 0.  ]\n",
      "[1.   0.89 0.78 0.68 0.59 0.5  0.42 0.33 0.23 0.11 0.  ]\n",
      "[1.   0.89 0.78 0.68 0.59 0.5  0.41 0.32 0.22 0.11 0.  ]\n",
      "[1.   0.89 0.78 0.68 0.59 0.5  0.41 0.32 0.22 0.11 0.  ]\n",
      "[1.   0.89 0.79 0.69 0.59 0.5  0.41 0.32 0.22 0.11 0.  ]\n"
     ]
    }
   ],
   "source": [
    "next_step = arr.copy()\n",
    "print(next_step)\n",
    "for i in range(5):\n",
    "    next_step = forward_step(next_step)\n",
    "    print(next_step.round(2))\n",
    "    next_step = back_step(next_step)\n",
    "    print(next_step.round(2))\n",
    "for i in range(5):\n",
    "    next_step = forward_step(next_step, step=0.33)\n",
    "    print(next_step.round(2))\n",
    "    next_step = back_step(next_step, step=0.33)\n",
    "    print(next_step.round(2))"
   ]
  },
  {
   "cell_type": "code",
   "execution_count": null,
   "id": "3ffd5281-35f1-44ea-81a2-995b99a71c35",
   "metadata": {},
   "outputs": [],
   "source": []
  },
  {
   "cell_type": "code",
   "execution_count": null,
   "id": "61a144cd-73dc-4b6d-9185-513e43d5de96",
   "metadata": {},
   "outputs": [],
   "source": []
  }
 ],
 "metadata": {
  "kernelspec": {
   "display_name": "Python 3 (ipykernel)",
   "language": "python",
   "name": "python3"
  },
  "language_info": {
   "codemirror_mode": {
    "name": "ipython",
    "version": 3
   },
   "file_extension": ".py",
   "mimetype": "text/x-python",
   "name": "python",
   "nbconvert_exporter": "python",
   "pygments_lexer": "ipython3",
   "version": "3.10.11"
  }
 },
 "nbformat": 4,
 "nbformat_minor": 5
}
